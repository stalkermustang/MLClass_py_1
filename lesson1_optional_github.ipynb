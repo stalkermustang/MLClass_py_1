{
 "cells": [
  {
   "cell_type": "markdown",
   "metadata": {},
   "source": [
    "# MLClass. \"Прикладной анализ данных\"\n",
    "# Модуль \"Инструментарий Data Science\"\n",
    "<img src=\"../img/mlclass_logo.jpg\" height=\"240\" width=\"240\">\n",
    "## Автор материала: преподаватель ФКН НИУ ВШЭ Кашницкий Юрий\n",
    "Материал распространяется на условиях лицензии <a href=\"http://creativecommons.org/licenses/by-sa/4.0/\">Creative Commons Attribution-Share Alike 4.0</a>. Можно использовать в любых целях, но с обязательным упоминанием автора курса и аффилиации."
   ]
  },
  {
   "cell_type": "markdown",
   "metadata": {},
   "source": [
    "## Урок 1. Введение в Python и средства разработки"
   ]
  },
  {
   "cell_type": "markdown",
   "metadata": {},
   "source": [
    "### Дополнительная часть. Git и GitHub"
   ]
  },
  {
   "cell_type": "markdown",
   "metadata": {},
   "source": [
    "Создадим на GitHub репозиторий *mccme_python_tasks* для домашних заданий по этому курсу. Репозиторий будет публичный. Приватный может быть только с платным аккаунтом. \n",
    "<img src=\"../img/github_new_repo.png\" height=\"494\" width=\"718\">"
   ]
  },
  {
   "cell_type": "markdown",
   "metadata": {},
   "source": [
    "Конфигурируем учетные данные клиента Git \n",
    "<p><i><b>>> git config --global user.name \"Your Name\"</b></i></p>\n",
    "<p><i><b>>> git config --global user.email \"your_email@whatever.com\"</b></i></p>"
   ]
  },
  {
   "cell_type": "markdown",
   "metadata": {},
   "source": [
    "Переходим в каталог с задачами из соответствующего проекта PyCharm. Предполагаю, что структура проекта такая - в каталоге *tasks*, где мы инициализируем репозиторий, каталоги семинаров с *.py*-файлами. \n",
    "<img src=\"../img/dir_tree.png\" height=\"373\" width=\"337\">"
   ]
  },
  {
   "cell_type": "markdown",
   "metadata": {},
   "source": [
    "### Создание локального репозитория и изменения"
   ]
  },
  {
   "cell_type": "markdown",
   "metadata": {},
   "source": [
    "В каталоге *tasks* создаем репозиторий:\n",
    "<p><i><b>>> git init</b></i></p>\n",
    "\n",
    "Если запустить, будет сообщение, что есть неотслеживаемые файлы.\n",
    "<p><i><b>>> git status</b></i></p>\n",
    "\n",
    "Добавляем файлы:\n",
    "<p><i><b>>> git add '*.py'</b></i></p>"
   ]
  },
  {
   "cell_type": "markdown",
   "metadata": {},
   "source": [
    "<img src=\"../img/git_add.png\" height=\"536\" width=\"562\">"
   ]
  },
  {
   "cell_type": "markdown",
   "metadata": {},
   "source": [
    "Теперь изменения надо подтвердить (\"закоммитить\"):\n",
    "<p><i><b>>> git commit -m \"add seminar 2 tasks\"</b></i></p>\n",
    "\n",
    "Файлы были добавлены в областью подготовленных файлов (Staging Area). Чтобы отправить изменения на сервер, надо сначала указать путь к репозиторию GitHub (origin), а потом ипользовать команду *push* для отправки изменений в репозиторий в ветку *master* репозитория *origin*\n",
    "<p><i><b>>> git remote add origin https://github.com/Yorko/mccme_python_tasks.git </b></i></p>\n",
    "<p><i><b>>> git push -u origin master</b></i></p>\n"
   ]
  },
  {
   "cell_type": "markdown",
   "metadata": {},
   "source": [
    "<img src=\"../img/git_push.png\" height=\"954\" width=\"303\">"
   ]
  },
  {
   "cell_type": "markdown",
   "metadata": {},
   "source": [
    "Посмотреть историю коммитов можно командой\n",
    "<p><i><b>>> git log</b></i></p>\n",
    "\n",
    "А если с более приятным форматированием\n",
    "<p><i><b>>> git log --all --pretty=format:\"%h %cd %s (%an)\" --since='7 days ago'</b></i></p>"
   ]
  },
  {
   "cell_type": "markdown",
   "metadata": {},
   "source": [
    "Историю коммитов удаленного репозитория GitHub можно посмотреть на сайте\n",
    "\n",
    "<img src=\"../img/github_commits.png\">"
   ]
  },
  {
   "cell_type": "markdown",
   "metadata": {},
   "source": [
    "Предположим, мы поменяли файл *seminar3/3P_3551_sum_factorials.py*, но поняли, что неправильно и хотим вернуть к последней \"закомиченной\" версии этого файла. Это делается командой *git checkout*. \n",
    "\n",
    "<p><i><b>>> git checkout seminar3/3P_3551_sum_factorials.py</b></i></p> "
   ]
  },
  {
   "cell_type": "markdown",
   "metadata": {},
   "source": [
    "<img src=\"../img/git_checkout_file.png\" height=\"1189\" width=\"541\">"
   ]
  },
  {
   "cell_type": "markdown",
   "metadata": {},
   "source": [
    "Изменения, внесенные в область подготовленных файлов (Staging Area), отменяются командой *git reset HEAD file*.\n",
    "Подтвержденные (\"закоммиченные\") изменения отменяются командой *git revert HEAD*"
   ]
  },
  {
   "cell_type": "markdown",
   "metadata": {},
   "source": [
    "### Добавление ветви"
   ]
  },
  {
   "cell_type": "markdown",
   "metadata": {},
   "source": [
    "Работу с репозиторием принято разделять по ветвям. Главная ветвь - по умолчанию *master*. Это работающий код текущего состояния приложения (production). Основная разработка происходит в ветви *develop*. Но могут быть и тематические ветви, например ветвь \"GUI\". "
   ]
  },
  {
   "cell_type": "markdown",
   "metadata": {},
   "source": [
    "Добавим ветку *develop*\n",
    "<p><i><b>>> git checkout -b develop</b></i></p>\n",
    "\n",
    "Добавим файл с задачей, которую пока решили частично\n",
    "<p><i><b>>> git add seminar3/3N_lost_card.py</b></i></p>\n",
    "<p><i><b>>> git commit -m \"add lost card task (not ready)\"</b></i></p>\n",
    "\n",
    "Отправим в ветвь *develop* удаленного репозитория *origin*\n",
    "<p><i><b>>> git push origin develop</b></i></p>\n",
    "<img src=\"../img/git_branch_develop.png\" height=\"1145\" width=\"450\">"
   ]
  },
  {
   "cell_type": "markdown",
   "metadata": {},
   "source": [
    "Переключаться между ветками можно командой *git checkout branch_name*, посмотреть все ветки - *git branch*"
   ]
  },
  {
   "cell_type": "markdown",
   "metadata": {},
   "source": [
    "Чтобы отправить изменения из одной ветви в другую (\"слить ветви\", в данном случае - из *develop* в *master*):\n",
    "\n",
    "<p><i><b>>> git checkout master</b></i></p>\n",
    "<p><i><b>>> git merge develop</b></i></p>\n",
    "\n",
    "То есть здесь перешли в ветвь *master* и приняли изменения из ветви *develop*."
   ]
  },
  {
   "cell_type": "markdown",
   "metadata": {},
   "source": [
    "Но что если состояния файлов в двух ветвях разные, противоречащие друг другу? Что если в ветке *master* с файлом *seminar3/3N_lost_card.py*  поработал один человек, а в ветке *develop* с этим же файлом - другой?"
   ]
  },
  {
   "cell_type": "markdown",
   "metadata": {},
   "source": [
    "### Разрешение конфликтов"
   ]
  },
  {
   "cell_type": "markdown",
   "metadata": {},
   "source": [
    "Сейчас в обеих ветках в файле *seminar3/3N_lost_card.py* всего одно строка. Добавим второй строкой комментарий \"# here we are solving a lost card task\" и закоммитим в ветку *master*. \n",
    "Теперь удалим этот комментарий, добавим строку кода \"print(n)\" и закоммитим в ветку *develop*. "
   ]
  },
  {
   "cell_type": "markdown",
   "metadata": {},
   "source": [
    "(добавили комментарий)\n",
    "<p><i><b>>> git checkout master</b></i></p>\n",
    "<p><i><b>>> git add seminar3/3N_lost_card.py</b></i></p>\n",
    "<p><i><b>>> git status</b></i></p>\n",
    "<p><i><b>>> git commit -m \"add comment to seminar3/3N_lost_card.py\"</b></i></p>\n",
    "<p><i><b>>> git checkout develop</b></i></p>\n",
    "(теперь вместо комментария код)\n",
    "<p><i><b>>> git add seminar3/3N_lost_card.py</b></i></p>\n",
    "<p><i><b>>> git status</b></i></p>\n",
    "<p><i><b>>> git commit -m \"add code to seminar3/3N_lost_card.py\"</b></i></p>"
   ]
  },
  {
   "cell_type": "markdown",
   "metadata": {},
   "source": [
    "Попробуем \"смерджить\" ветки:\n",
    "<p><i><b>>> git checkout master</b></i></p>\n",
    "<p><i><b>>> git merge develop</b></i></p>"
   ]
  },
  {
   "cell_type": "markdown",
   "metadata": {},
   "source": [
    "Пишется сообщение, что автоматически слить ветки не получилось, как раз из-з аконфликта в файле *seminar3/3N_lost_card.py*"
   ]
  },
  {
   "cell_type": "markdown",
   "metadata": {},
   "source": [
    "Теперь содержимое файла стало таким:\n",
    "\n",
    "<img src=\"../img/git_conflict.png\" height=\"1189\" width=\"541\">"
   ]
  },
  {
   "cell_type": "markdown",
   "metadata": {},
   "source": [
    "Первая строка \"n = int(input())\" одинакова в обеих ветвях. Далее две секции, разделенные строками с *<<<<<<< HEAD*, *=======* и \">>>>>>> develop\". \n",
    "\n",
    "В первой секции - строка файла в текущей ветке *master* (комментарий),\n",
    "а во второй - та же строка файла в ветке *develop* (код)"
   ]
  },
  {
   "cell_type": "markdown",
   "metadata": {},
   "source": [
    "Чтобы разрешить конфликт, надо вручную отредактировать файл и отправить новые изменения\n",
    "\n",
    "<img src=\"../img/git_conflict_resolved.png\" height=\"1189\" width=\"541\">"
   ]
  },
  {
   "cell_type": "markdown",
   "metadata": {},
   "source": [
    "<p><i><b>>> git add seminar3/3N_lost_card.py</b></i></p>\n",
    "<p><i><b>>> git commit -m \"fix 3N_lost_card conflict\"</b></i></p>\n",
    "<p><i><b>>> git push</b></i></p>"
   ]
  }
 ],
 "metadata": {
  "kernelspec": {
   "display_name": "Python 2",
   "language": "python",
   "name": "python2"
  },
  "language_info": {
   "codemirror_mode": {
    "name": "ipython",
    "version": 2
   },
   "file_extension": ".py",
   "mimetype": "text/x-python",
   "name": "python",
   "nbconvert_exporter": "python",
   "pygments_lexer": "ipython2",
   "version": "2.7.10"
  },
  "name": "seminar2_part2_lists_tuples.ipynb"
 },
 "nbformat": 4,
 "nbformat_minor": 0
}
